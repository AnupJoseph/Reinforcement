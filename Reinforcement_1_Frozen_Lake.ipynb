{
  "nbformat": 4,
  "nbformat_minor": 0,
  "metadata": {
    "colab": {
      "name": "Reinforcement - 1 - Frozen Lake.ipynb",
      "provenance": []
    },
    "kernelspec": {
      "name": "python3",
      "display_name": "Python 3"
    }
  },
  "cells": [
    {
      "cell_type": "code",
      "metadata": {
        "id": "xDwBz-4DtTZx",
        "colab_type": "code",
        "colab": {}
      },
      "source": [
        "import numpy as np\n",
        "import gym\n",
        "import random"
      ],
      "execution_count": 9,
      "outputs": []
    },
    {
      "cell_type": "code",
      "metadata": {
        "id": "mJ-tY1DfubOe",
        "colab_type": "code",
        "colab": {}
      },
      "source": [
        "env = gym.make('FrozenLake-v0')"
      ],
      "execution_count": 2,
      "outputs": []
    },
    {
      "cell_type": "code",
      "metadata": {
        "id": "y8ovs9jlujjC",
        "colab_type": "code",
        "colab": {}
      },
      "source": [
        "action_size = env.action_space.n\n",
        "state_size = env.observation_space.n"
      ],
      "execution_count": 3,
      "outputs": []
    },
    {
      "cell_type": "code",
      "metadata": {
        "id": "GDI0X9Ruvn8g",
        "colab_type": "code",
        "colab": {
          "base_uri": "https://localhost:8080/",
          "height": 289
        },
        "outputId": "6d87581a-3e2e-41f3-94b9-b2b2d37701e4"
      },
      "source": [
        "q_table = np.zeros([state_size,action_size])\n",
        "print(q_table)"
      ],
      "execution_count": 5,
      "outputs": [
        {
          "output_type": "stream",
          "text": [
            "[[0. 0. 0. 0.]\n",
            " [0. 0. 0. 0.]\n",
            " [0. 0. 0. 0.]\n",
            " [0. 0. 0. 0.]\n",
            " [0. 0. 0. 0.]\n",
            " [0. 0. 0. 0.]\n",
            " [0. 0. 0. 0.]\n",
            " [0. 0. 0. 0.]\n",
            " [0. 0. 0. 0.]\n",
            " [0. 0. 0. 0.]\n",
            " [0. 0. 0. 0.]\n",
            " [0. 0. 0. 0.]\n",
            " [0. 0. 0. 0.]\n",
            " [0. 0. 0. 0.]\n",
            " [0. 0. 0. 0.]\n",
            " [0. 0. 0. 0.]]\n"
          ],
          "name": "stdout"
        }
      ]
    },
    {
      "cell_type": "code",
      "metadata": {
        "id": "mtmiOEYfv7qT",
        "colab_type": "code",
        "colab": {}
      },
      "source": [
        "# System parameters\n",
        "total_episodes = 15000\n",
        "max_steps = 100\n",
        "learning_rate = 0.8\n",
        "gamma = 0.95"
      ],
      "execution_count": 6,
      "outputs": []
    },
    {
      "cell_type": "code",
      "metadata": {
        "id": "YfSC9CXbCU-h",
        "colab_type": "code",
        "colab": {}
      },
      "source": [
        "# Exploration Tradeoff parameters\n",
        "epsilon = 1.0\n",
        "max_epsilon = 1.0\n",
        "min_epsilon = 0.01\n",
        "decay_rate = 0.005"
      ],
      "execution_count": 7,
      "outputs": []
    },
    {
      "cell_type": "code",
      "metadata": {
        "id": "YszBnI2yEOlD",
        "colab_type": "code",
        "colab": {
          "base_uri": "https://localhost:8080/",
          "height": 34
        },
        "outputId": "3a084f35-be7c-47be-f4b0-ba33e57ceb33"
      },
      "source": [
        "type(env.action_space)"
      ],
      "execution_count": 11,
      "outputs": [
        {
          "output_type": "execute_result",
          "data": {
            "text/plain": [
              "gym.spaces.discrete.Discrete"
            ]
          },
          "metadata": {
            "tags": []
          },
          "execution_count": 11
        }
      ]
    },
    {
      "cell_type": "code",
      "metadata": {
        "id": "9fMw_uMsCsv4",
        "colab_type": "code",
        "colab": {}
      },
      "source": [
        "rewards = []\n",
        "for episode in range(total_episodes):\n",
        "  # Step one : Reset the environment\n",
        "  state = env.reset()\n",
        "  step = 0\n",
        "  done = False\n",
        "  total_rewards = 0\n",
        "\n",
        "  # Step2 : Continue the steps 3-5 till learning is stop or termination step is reached\n",
        "  for step in range(max_steps):\n",
        "    # Step 3 : The exploration versus exploitation trade-off\n",
        "    number = random.uniform(0,1)\n",
        "\n",
        "    ## If this number > greater than epsilon --> exploitation (taking the biggest Q value for this state)\n",
        "    if number > epsilon:\n",
        "      action = np.argmax(q_table[state,:])\n",
        "\n",
        "    # Else doing a random choice --> exploration\n",
        "    else:\n",
        "      action = env.action_space.sample()\n",
        "\n",
        "    # Take the action (a) and observe the outcome state(s') and reward (r)\n",
        "    new_state, reward, done, _ = env.step(action)\n",
        "\n",
        "    total_rewards += reward\n",
        "\n",
        "    C = reward + gamma*np.max(q_table[new_state,:]) - q_table[state,action]\n",
        "    q_table[state,action] = q_table[state,action] + learning_rate*C\n",
        "\n",
        "    # Our new state is state\n",
        "    state = new_state\n",
        "\n",
        "    # If done (if we're dead) : finish episode\n",
        "    if done:\n",
        "      break\n",
        "  epsilon = min_epsilon + (max_epsilon - min_epsilon)*np.exp(-decay_rate*episode)\n",
        "  rewards.append(total_rewards)"
      ],
      "execution_count": null,
      "outputs": []
    },
    {
      "cell_type": "code",
      "metadata": {
        "id": "aIFZ5notG2PC",
        "colab_type": "code",
        "colab": {
          "base_uri": "https://localhost:8080/",
          "height": 306
        },
        "outputId": "d0081d58-12ea-41ff-ba90-bfc90b2e0794"
      },
      "source": [
        "print (\"Score over time: \" +  str(sum(rewards)/total_episodes))\n",
        "print(q_table)"
      ],
      "execution_count": 15,
      "outputs": [
        {
          "output_type": "stream",
          "text": [
            "Score over time: 0.4706666666666667\n",
            "[[2.46952193e-01 2.88289968e-02 2.89747242e-02 4.30072003e-02]\n",
            " [2.31314473e-03 7.10400692e-03 5.97107915e-04 8.45675863e-02]\n",
            " [7.10424194e-03 1.23878056e-02 2.69829365e-03 2.30888327e-02]\n",
            " [3.50759350e-03 9.11162146e-05 7.00913298e-04 2.04495705e-02]\n",
            " [3.74956957e-01 8.14832711e-03 9.90188771e-03 1.76754136e-02]\n",
            " [0.00000000e+00 0.00000000e+00 0.00000000e+00 0.00000000e+00]\n",
            " [5.55653615e-04 2.81594608e-06 1.79387427e-04 2.24197705e-07]\n",
            " [0.00000000e+00 0.00000000e+00 0.00000000e+00 0.00000000e+00]\n",
            " [8.69451290e-05 4.21464971e-02 1.90561280e-02 5.87872830e-01]\n",
            " [8.87307536e-03 6.56647754e-01 5.32965856e-04 1.33348015e-02]\n",
            " [1.39955784e-01 1.18373704e-03 1.38413636e-04 1.51970826e-06]\n",
            " [0.00000000e+00 0.00000000e+00 0.00000000e+00 0.00000000e+00]\n",
            " [0.00000000e+00 0.00000000e+00 0.00000000e+00 0.00000000e+00]\n",
            " [9.40879754e-02 7.08450384e-03 7.95610201e-01 4.81786910e-03]\n",
            " [2.24506912e-01 9.66173313e-01 1.76374480e-01 1.14013412e-01]\n",
            " [0.00000000e+00 0.00000000e+00 0.00000000e+00 0.00000000e+00]]\n"
          ],
          "name": "stdout"
        }
      ]
    },
    {
      "cell_type": "code",
      "metadata": {
        "id": "4mpTbJ4GG54F",
        "colab_type": "code",
        "colab": {
          "base_uri": "https://localhost:8080/",
          "height": 1000
        },
        "outputId": "d1e1e429-6fa7-4082-f103-fd31801adb6f"
      },
      "source": [
        "env.reset()\n",
        "\n",
        "for episode in range(20):\n",
        "    state = env.reset()\n",
        "    step = 0\n",
        "    done = False\n",
        "    print(\"****************************************************\")\n",
        "    print(\"EPISODE \", episode)\n",
        "\n",
        "    for step in range(max_steps):\n",
        "        \n",
        "        # Take the action (index) that have the maximum expected future reward given that state\n",
        "        action = np.argmax(q_table[state,:])\n",
        "        \n",
        "        new_state, reward, done, info = env.step(action)\n",
        "        \n",
        "        if done:\n",
        "            # Here, we decide to only print the last state (to see if our agent is on the goal or fall into an hole)\n",
        "            env.render()\n",
        "            \n",
        "            # We print the number of step it took.\n",
        "            print(\"Number of steps\", step)\n",
        "            break\n",
        "        state = new_state\n",
        "env.close()"
      ],
      "execution_count": 18,
      "outputs": [
        {
          "output_type": "stream",
          "text": [
            "****************************************************\n",
            "EPISODE  0\n",
            "  (Down)\n",
            "SFFF\n",
            "FHFH\n",
            "FFFH\n",
            "HFF\u001b[41mG\u001b[0m\n",
            "Number of steps 13\n",
            "****************************************************\n",
            "EPISODE  1\n",
            "  (Down)\n",
            "SFFF\n",
            "FHFH\n",
            "FFFH\n",
            "HFF\u001b[41mG\u001b[0m\n",
            "Number of steps 30\n",
            "****************************************************\n",
            "EPISODE  2\n",
            "  (Down)\n",
            "SFFF\n",
            "FHFH\n",
            "FFFH\n",
            "H\u001b[41mF\u001b[0mFG\n",
            "Number of steps 99\n",
            "****************************************************\n",
            "EPISODE  3\n",
            "  (Down)\n",
            "SFFF\n",
            "FHFH\n",
            "FFFH\n",
            "HFF\u001b[41mG\u001b[0m\n",
            "Number of steps 34\n",
            "****************************************************\n",
            "EPISODE  4\n",
            "  (Left)\n",
            "\u001b[41mS\u001b[0mFFF\n",
            "FHFH\n",
            "FFFH\n",
            "HFFG\n",
            "Number of steps 99\n",
            "****************************************************\n",
            "EPISODE  5\n",
            "  (Down)\n",
            "SFFF\n",
            "FHFH\n",
            "FFFH\n",
            "HFF\u001b[41mG\u001b[0m\n",
            "Number of steps 54\n",
            "****************************************************\n",
            "EPISODE  6\n",
            "  (Left)\n",
            "SFFF\n",
            "F\u001b[41mH\u001b[0mFH\n",
            "FFFH\n",
            "HFFG\n",
            "Number of steps 35\n",
            "****************************************************\n",
            "EPISODE  7\n",
            "  (Left)\n",
            "SFFF\n",
            "F\u001b[41mH\u001b[0mFH\n",
            "FFFH\n",
            "HFFG\n",
            "Number of steps 19\n",
            "****************************************************\n",
            "EPISODE  8\n",
            "  (Down)\n",
            "SFFF\n",
            "FHFH\n",
            "FFFH\n",
            "HFF\u001b[41mG\u001b[0m\n",
            "Number of steps 35\n",
            "****************************************************\n",
            "EPISODE  9\n",
            "  (Down)\n",
            "SFFF\n",
            "FHFH\n",
            "FFFH\n",
            "HFF\u001b[41mG\u001b[0m\n",
            "Number of steps 27\n",
            "****************************************************\n",
            "EPISODE  10\n",
            "  (Down)\n",
            "SFFF\n",
            "FHFH\n",
            "FFFH\n",
            "HFF\u001b[41mG\u001b[0m\n",
            "Number of steps 28\n",
            "****************************************************\n",
            "EPISODE  11\n",
            "  (Left)\n",
            "SFFF\n",
            "F\u001b[41mH\u001b[0mFH\n",
            "FFFH\n",
            "HFFG\n",
            "Number of steps 18\n",
            "****************************************************\n",
            "EPISODE  12\n",
            "  (Down)\n",
            "SFFF\n",
            "FHFH\n",
            "FFFH\n",
            "HFF\u001b[41mG\u001b[0m\n",
            "Number of steps 18\n",
            "****************************************************\n",
            "EPISODE  13\n",
            "  (Down)\n",
            "SFFF\n",
            "FHFH\n",
            "FFFH\n",
            "HFF\u001b[41mG\u001b[0m\n",
            "Number of steps 28\n",
            "****************************************************\n",
            "EPISODE  14\n",
            "  (Down)\n",
            "SFFF\n",
            "FHFH\n",
            "FFFH\n",
            "HFF\u001b[41mG\u001b[0m\n",
            "Number of steps 33\n",
            "****************************************************\n",
            "EPISODE  15\n",
            "  (Down)\n",
            "SFFF\n",
            "FHFH\n",
            "FFFH\n",
            "HFF\u001b[41mG\u001b[0m\n",
            "Number of steps 31\n",
            "****************************************************\n",
            "EPISODE  16\n",
            "  (Down)\n",
            "SFFF\n",
            "FHFH\n",
            "FFFH\n",
            "HFF\u001b[41mG\u001b[0m\n",
            "Number of steps 61\n",
            "****************************************************\n",
            "EPISODE  17\n",
            "  (Up)\n",
            "SFF\u001b[41mF\u001b[0m\n",
            "FHFH\n",
            "FFFH\n",
            "HFFG\n",
            "Number of steps 99\n",
            "****************************************************\n",
            "EPISODE  18\n",
            "  (Down)\n",
            "SFFF\n",
            "FHFH\n",
            "FFFH\n",
            "HFF\u001b[41mG\u001b[0m\n",
            "Number of steps 41\n",
            "****************************************************\n",
            "EPISODE  19\n",
            "  (Down)\n",
            "SFFF\n",
            "FHFH\n",
            "FFFH\n",
            "HFF\u001b[41mG\u001b[0m\n",
            "Number of steps 9\n"
          ],
          "name": "stdout"
        }
      ]
    }
  ]
}